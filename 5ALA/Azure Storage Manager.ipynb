{
 "cells": [
  {
   "cell_type": "code",
   "execution_count": 9,
   "id": "northern-poker",
   "metadata": {},
   "outputs": [],
   "source": [
    "import os\n",
    "import numpy as np\n",
    "import matplotlib.pyplot as plt\n",
    "import azure_computation\n",
    "from io import BytesIO\n",
    "from skimage import data, io\n",
    "from azure_manager import *\n",
    "from PIL import Image\n",
    "from skimage import io\n",
    "from azure.storage.blob import BlobServiceClient, BlobClient, ContainerClient\n",
    "Image.MAX_IMAGE_PIXELS = None\n",
    "from dotenv import load_dotenv"
   ]
  },
  {
   "cell_type": "code",
   "execution_count": 10,
   "id": "hispanic-cache",
   "metadata": {},
   "outputs": [],
   "source": [
    "load_dotenv()\n",
    "storage_account_name = \"gbmresearch\"\n",
    "azure_key = os.getenv('AZURE_KEY')\n",
    "azure_connection_string = os.getenv('AZURE_CONNECTION_STRING')"
   ]
  },
  {
   "cell_type": "code",
   "execution_count": 14,
   "id": "alien-filter",
   "metadata": {},
   "outputs": [],
   "source": [
    "gene_name = \"NDRG4\"\n",
    "base_path = \"images/auto{0}\".format(gene_name)\n",
    "container_name = \"auto{0}\".format(gene_name.lower())"
   ]
  },
  {
   "cell_type": "code",
   "execution_count": 17,
   "id": "presidential-indicator",
   "metadata": {},
   "outputs": [],
   "source": [
    "## Upload to azure\n",
    "def upload_folder_to_azure():    \n",
    "    for file_name in os.listdir(base_path):\n",
    "    #     if \"Annotation\" in file_name:\n",
    "        print(file_name)\n",
    "        upload_to_azure(gene_name, file_name)"
   ]
  },
  {
   "cell_type": "code",
   "execution_count": 18,
   "id": "prompt-throat",
   "metadata": {},
   "outputs": [
    {
     "name": "stdout",
     "output_type": "stream",
     "text": [
      "264960879_ISH_NDRG4.jpg\n",
      "264893299_Annotation_NDRG4.jpg\n",
      "264893140_Annotation_NDRG4.jpg\n",
      "264714422_ISH_NDRG4.jpg\n",
      "264711879_ISH_NDRG4.jpg\n",
      "264633236_Annotation_NDRG4.jpg\n",
      "264632668_Annotation_NDRG4.jpg\n",
      "264712751_Annotation_NDRG4.jpg\n",
      "264633236_ISH_NDRG4.jpg\n",
      "264712751_ISH_NDRG4.jpg\n",
      "264963795_ISH_NDRG4.jpg\n",
      "264960321_Annotation_NDRG4.jpg\n",
      "264960321_ISH_NDRG4.jpg\n",
      "264713835_ISH_NDRG4.jpg\n",
      "264960879_Annotation_NDRG4.jpg\n",
      "264634432_Annotation_NDRG4.jpg\n",
      "264628874_ISH_NDRG4.jpg\n",
      "264892914_Annotation_NDRG4.jpg\n",
      "264714221_Annotation_NDRG4.jpg\n",
      "264714604_Annotation_NDRG4.jpg\n",
      "264893299_ISH_NDRG4.jpg\n",
      "264628992_Annotation_NDRG4.jpg\n",
      "264714604_ISH_NDRG4.jpg\n",
      "264714221_ISH_NDRG4.jpg\n",
      "264714366_ISH_NDRG4.jpg\n",
      "264633814_ISH_NDRG4.jpg\n",
      "264712097_ISH_NDRG4.jpg\n",
      "264634432_ISH_NDRG4.jpg\n",
      "264967627_ISH_NDRG4.jpg\n",
      "264711879_Annotation_NDRG4.jpg\n",
      "264634609_ISH_NDRG4.jpg\n",
      "264628874_Annotation_NDRG4.jpg\n",
      "264893107_ISH_NDRG4.jpg\n",
      "264712097_Annotation_NDRG4.jpg\n",
      "264633814_Annotation_NDRG4.jpg\n",
      "264967627_Annotation_NDRG4.jpg\n",
      "264714366_Annotation_NDRG4.jpg\n",
      "264963795_Annotation_NDRG4.jpg\n",
      "264632716_Annotation_NDRG4.jpg\n",
      "264632668_ISH_NDRG4.jpg\n",
      "264632716_ISH_NDRG4.jpg\n",
      "264628992_ISH_NDRG4.jpg\n",
      "264893107_Annotation_NDRG4.jpg\n",
      "264634609_Annotation_NDRG4.jpg\n",
      "264892914_ISH_NDRG4.jpg\n",
      "264713835_Annotation_NDRG4.jpg\n",
      "264714422_Annotation_NDRG4.jpg\n",
      "264893140_ISH_NDRG4.jpg\n"
     ]
    }
   ],
   "source": [
    "upload_folder_to_azure()"
   ]
  },
  {
   "cell_type": "code",
   "execution_count": null,
   "id": "recovered-arena",
   "metadata": {},
   "outputs": [],
   "source": [
    "images = load_image_names(gene_name)\n",
    "img = get_image(gene_name, images[0])"
   ]
  },
  {
   "cell_type": "code",
   "execution_count": null,
   "id": "separated-baker",
   "metadata": {},
   "outputs": [],
   "source": [
    "annotations = []\n",
    "ish_images = []\n",
    "for file_name in images:\n",
    "    if \"Annotation\" in file_name:\n",
    "        annotations.append(file_name)\n",
    "    if \"ISH\" in file_name:\n",
    "        ish_images.append(file_name)"
   ]
  },
  {
   "cell_type": "code",
   "execution_count": null,
   "id": "manual-level",
   "metadata": {},
   "outputs": [],
   "source": [
    "image_data_paths = []\n",
    "for file_name in ish_images:\n",
    "    split_name = file_name.split(\"ISH\")[0]\n",
    "    for annotation_name in annotations:\n",
    "        annotation_split = annotation_name.split(\"Annotation\")[0]\n",
    "        if annotation_split == split_name:\n",
    "            image_data_paths.append((gene_name, file_name, annotation_name))"
   ]
  },
  {
   "cell_type": "code",
   "execution_count": null,
   "id": "proper-theme",
   "metadata": {},
   "outputs": [],
   "source": [
    "tumor_annotation_image.shape"
   ]
  },
  {
   "cell_type": "code",
   "execution_count": null,
   "id": "alone-hours",
   "metadata": {},
   "outputs": [],
   "source": [
    "ish_image = get_image('CDCP1', image_data_paths[1][1])\n",
    "ish_mask = (ish_image[:, :, 0] < 220) & (ish_image[:, :, 1] > 200) & (ish_image[:, :, 2] > 180)\n",
    "plt.imshow(ish_mask)"
   ]
  },
  {
   "cell_type": "code",
   "execution_count": null,
   "id": "loaded-average",
   "metadata": {},
   "outputs": [],
   "source": [
    "tumor_annotation_image = get_image('CDCP1', image_data_paths[1][2])\n",
    "microvascular_proliferation_mask = (tumor_annotation_image[:, :, 0] > 200) & (tumor_annotation_image[:, :, 1] < 150) & (tumor_annotation_image[:, :, 2] < 150)\n",
    "plt.imshow(infiltrating_tumor_mask)"
   ]
  },
  {
   "cell_type": "code",
   "execution_count": null,
   "id": "hundred-tackle",
   "metadata": {},
   "outputs": [],
   "source": [
    "plt.imshow(tumor_annotation_image)"
   ]
  },
  {
   "cell_type": "code",
   "execution_count": null,
   "id": "hawaiian-championship",
   "metadata": {},
   "outputs": [],
   "source": [
    "microvascular_proliferation_count = np.count_nonzero(np.logical_and(ish_mask, microvascular_proliferation_mask))\n",
    "microvascular_proliferation_percent = round(microvascular_proliferation_count/(np.count_nonzero(microvascular_proliferation_mask) * 100, 5)\n",
    "print(microvascular_proliferation_percent)"
   ]
  },
  {
   "cell_type": "code",
   "execution_count": null,
   "id": "global-utilization",
   "metadata": {},
   "outputs": [],
   "source": [
    "results = azure_computation.compute_counts(image_data_paths[0])\n",
    "print(results)"
   ]
  },
  {
   "cell_type": "code",
   "execution_count": null,
   "id": "competitive-nation",
   "metadata": {},
   "outputs": [],
   "source": []
  }
 ],
 "metadata": {
  "kernelspec": {
   "display_name": "Python 3",
   "language": "python",
   "name": "python3"
  },
  "language_info": {
   "codemirror_mode": {
    "name": "ipython",
    "version": 3
   },
   "file_extension": ".py",
   "mimetype": "text/x-python",
   "name": "python",
   "nbconvert_exporter": "python",
   "pygments_lexer": "ipython3",
   "version": "3.9.5"
  }
 },
 "nbformat": 4,
 "nbformat_minor": 5
}
