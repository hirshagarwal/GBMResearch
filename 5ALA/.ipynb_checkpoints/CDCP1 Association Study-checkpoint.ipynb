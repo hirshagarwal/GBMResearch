{
 "cells": [
  {
   "cell_type": "code",
   "execution_count": 9,
   "id": "equivalent-property",
   "metadata": {},
   "outputs": [],
   "source": [
    "from skimage import data, io, filters\n",
    "from skimage.color import rgb2hed, hed2rgb\n",
    "from PIL import Image\n",
    "from matplotlib.colors import LinearSegmentedColormap\n",
    "import matplotlib.pyplot as plt\n",
    "import os\n",
    "import numpy as np\n",
    "import pandas as pd\n",
    "import multiprocessing\n",
    "from computation import *\n",
    "Image.MAX_IMAGE_PIXELS = None"
   ]
  },
  {
   "cell_type": "code",
   "execution_count": 10,
   "id": "graduate-fellowship",
   "metadata": {},
   "outputs": [
    {
     "name": "stdout",
     "output_type": "stream",
     "text": [
      "[('W31_1_1_ISH_CDCP1.jpg', 'W31_1_1_Annotation_CDCP1.jpg'), ('W32_1_1_ISH_CDCP1.jpg', 'W32_1_1_Annotation_CDCP1.jpg'), ('W9_1_1_ISH_CDCP1.jpg', 'W9_1_1_Annotation_CDCP1.jpg'), ('W26_1_1_ISH_CDCP1.jpg', 'W26_1_1_Annotation_CDCP1.jpg'), ('W13_1_1_ISH_CDCP1.jpg', 'W13_1_1_Annotation_CDCP1.jpg'), ('W8_1_1_ISH_CDCP1.jpg', 'W8_1_1_Annotation_CDCP1.jpg'), ('W11_1_1_ISH_CDCP1.jpg', 'W11_1_1_Annotation_CDCP1.jpg')] \n",
      "\n",
      "Number of cpu :  12\n"
     ]
    }
   ],
   "source": [
    "ish_images = []\n",
    "annotations = []\n",
    "image_data_paths = []\n",
    "for file_name in os.listdir('images/CDCP1'):\n",
    "    if \"Annotation\" in file_name:\n",
    "        annotations.append(file_name)\n",
    "    if \"ISH\" in file_name:\n",
    "        ish_images.append(file_name)\n",
    "for file_name in ish_images:\n",
    "    split_name = file_name.split(\"ISH\")[0]\n",
    "    for annotation_name in annotations:\n",
    "        annotation_split = annotation_name.split(\"Annotation\")[0]\n",
    "        if annotation_split == split_name:\n",
    "            image_data_paths.append((file_name, annotation_name))\n",
    "print(image_data_paths, \"\\n\")\n",
    "print(\"Number of cpu : \", multiprocessing.cpu_count())"
   ]
  },
  {
   "cell_type": "code",
   "execution_count": 11,
   "id": "orange-march",
   "metadata": {},
   "outputs": [],
   "source": [
    "region_labels = np.array(['leading_edge', 'infiltrating_tumor', 'cellular_tumor', 'vascular', 'necrosis'])\n",
    "region_correlation = pd.DataFrame(columns=region_labels)"
   ]
  },
  {
   "cell_type": "code",
   "execution_count": 12,
   "id": "instructional-alcohol",
   "metadata": {},
   "outputs": [
    {
     "name": "stdout",
     "output_type": "stream",
     "text": [
      "Processing: W31_1_1_ISH_CDCP1.jpg\n"
     ]
    },
    {
     "ename": "IndexError",
     "evalue": "tuple index out of range",
     "output_type": "error",
     "traceback": [
      "\u001b[0;31m---------------------------------------------------------------------------\u001b[0m",
      "\u001b[0;31mIndexError\u001b[0m                                Traceback (most recent call last)",
      "\u001b[0;32m<ipython-input-12-52ceebc88f68>\u001b[0m in \u001b[0;36m<module>\u001b[0;34m\u001b[0m\n\u001b[1;32m      1\u001b[0m \u001b[0;32mfor\u001b[0m \u001b[0mimages_paths\u001b[0m \u001b[0;32min\u001b[0m \u001b[0mimage_data_paths\u001b[0m\u001b[0;34m:\u001b[0m\u001b[0;34m\u001b[0m\u001b[0;34m\u001b[0m\u001b[0m\n\u001b[1;32m      2\u001b[0m     \u001b[0;31m# Run Compute\u001b[0m\u001b[0;34m\u001b[0m\u001b[0;34m\u001b[0m\u001b[0;34m\u001b[0m\u001b[0m\n\u001b[0;32m----> 3\u001b[0;31m     \u001b[0mcompute_result\u001b[0m \u001b[0;34m=\u001b[0m \u001b[0mcompute_counts\u001b[0m\u001b[0;34m(\u001b[0m\u001b[0mimages_paths\u001b[0m\u001b[0;34m)\u001b[0m\u001b[0;34m\u001b[0m\u001b[0;34m\u001b[0m\u001b[0m\n\u001b[0m\u001b[1;32m      4\u001b[0m     \u001b[0mregion_correlation\u001b[0m\u001b[0;34m.\u001b[0m\u001b[0mloc\u001b[0m\u001b[0;34m[\u001b[0m\u001b[0mimages_paths\u001b[0m\u001b[0;34m[\u001b[0m\u001b[0;36m0\u001b[0m\u001b[0;34m]\u001b[0m\u001b[0;34m]\u001b[0m \u001b[0;34m=\u001b[0m \u001b[0mcompute_result\u001b[0m\u001b[0;34m\u001b[0m\u001b[0;34m\u001b[0m\u001b[0m\n\u001b[1;32m      5\u001b[0m \u001b[0;34m\u001b[0m\u001b[0m\n",
      "\u001b[0;32m~/Documents/GBMResearch/5ALA/computation.py\u001b[0m in \u001b[0;36mcompute_counts\u001b[0;34m(images_paths)\u001b[0m\n\u001b[1;32m     21\u001b[0m     \u001b[0;31m# Reshape Images\u001b[0m\u001b[0;34m\u001b[0m\u001b[0;34m\u001b[0m\u001b[0;34m\u001b[0m\u001b[0m\n\u001b[1;32m     22\u001b[0m     \u001b[0;32mif\u001b[0m \u001b[0;34m(\u001b[0m\u001b[0mish_image\u001b[0m\u001b[0;34m.\u001b[0m\u001b[0msize\u001b[0m \u001b[0;34m<\u001b[0m \u001b[0mtumor_annotation_image\u001b[0m\u001b[0;34m.\u001b[0m\u001b[0msize\u001b[0m\u001b[0;34m)\u001b[0m\u001b[0;34m:\u001b[0m\u001b[0;34m\u001b[0m\u001b[0;34m\u001b[0m\u001b[0m\n\u001b[0;32m---> 23\u001b[0;31m         \u001b[0mtumor_annotation_image\u001b[0m \u001b[0;34m=\u001b[0m \u001b[0mtumor_annotation_image\u001b[0m\u001b[0;34m[\u001b[0m\u001b[0;36m0\u001b[0m\u001b[0;34m:\u001b[0m\u001b[0mish_image\u001b[0m\u001b[0;34m.\u001b[0m\u001b[0mshape\u001b[0m\u001b[0;34m[\u001b[0m\u001b[0;36m0\u001b[0m\u001b[0;34m]\u001b[0m\u001b[0;34m,\u001b[0m \u001b[0;36m0\u001b[0m\u001b[0;34m:\u001b[0m\u001b[0mish_image\u001b[0m\u001b[0;34m.\u001b[0m\u001b[0mshape\u001b[0m\u001b[0;34m[\u001b[0m\u001b[0;36m1\u001b[0m\u001b[0;34m]\u001b[0m\u001b[0;34m,\u001b[0m \u001b[0;34m:\u001b[0m\u001b[0;34m]\u001b[0m\u001b[0;34m\u001b[0m\u001b[0;34m\u001b[0m\u001b[0m\n\u001b[0m\u001b[1;32m     24\u001b[0m     \u001b[0;32mif\u001b[0m \u001b[0;34m(\u001b[0m\u001b[0mish_image\u001b[0m\u001b[0;34m.\u001b[0m\u001b[0msize\u001b[0m \u001b[0;34m>\u001b[0m \u001b[0mtumor_annotation_image\u001b[0m\u001b[0;34m.\u001b[0m\u001b[0msize\u001b[0m\u001b[0;34m)\u001b[0m\u001b[0;34m:\u001b[0m\u001b[0;34m\u001b[0m\u001b[0;34m\u001b[0m\u001b[0m\n\u001b[1;32m     25\u001b[0m         \u001b[0mish_image\u001b[0m \u001b[0;34m=\u001b[0m \u001b[0mish_image\u001b[0m\u001b[0;34m[\u001b[0m\u001b[0;36m0\u001b[0m\u001b[0;34m:\u001b[0m\u001b[0mtumor_annotation_image\u001b[0m\u001b[0;34m.\u001b[0m\u001b[0mshape\u001b[0m\u001b[0;34m[\u001b[0m\u001b[0;36m0\u001b[0m\u001b[0;34m]\u001b[0m\u001b[0;34m,\u001b[0m \u001b[0;36m0\u001b[0m\u001b[0;34m:\u001b[0m\u001b[0mtumor_annotation_image\u001b[0m\u001b[0;34m.\u001b[0m\u001b[0mshape\u001b[0m\u001b[0;34m[\u001b[0m\u001b[0;36m1\u001b[0m\u001b[0;34m]\u001b[0m\u001b[0;34m]\u001b[0m\u001b[0;34m\u001b[0m\u001b[0;34m\u001b[0m\u001b[0m\n",
      "\u001b[0;31mIndexError\u001b[0m: tuple index out of range"
     ]
    }
   ],
   "source": [
    "for images_paths in image_data_paths:\n",
    "    # Run Compute\n",
    "    compute_result = compute_counts(images_paths)\n",
    "    region_correlation.loc[images_paths[0]] = compute_result\n",
    "    \n",
    "region_correlation"
   ]
  },
  {
   "cell_type": "code",
   "execution_count": 13,
   "id": "hungarian-router",
   "metadata": {},
   "outputs": [
    {
     "data": {
      "text/html": [
       "<div>\n",
       "<style scoped>\n",
       "    .dataframe tbody tr th:only-of-type {\n",
       "        vertical-align: middle;\n",
       "    }\n",
       "\n",
       "    .dataframe tbody tr th {\n",
       "        vertical-align: top;\n",
       "    }\n",
       "\n",
       "    .dataframe thead th {\n",
       "        text-align: right;\n",
       "    }\n",
       "</style>\n",
       "<table border=\"1\" class=\"dataframe\">\n",
       "  <thead>\n",
       "    <tr style=\"text-align: right;\">\n",
       "      <th></th>\n",
       "      <th>leading_edge</th>\n",
       "      <th>infiltrating_tumor</th>\n",
       "      <th>cellular_tumor</th>\n",
       "      <th>vascular</th>\n",
       "      <th>necrosis</th>\n",
       "    </tr>\n",
       "  </thead>\n",
       "  <tbody>\n",
       "  </tbody>\n",
       "</table>\n",
       "</div>"
      ],
      "text/plain": [
       "Empty DataFrame\n",
       "Columns: [leading_edge, infiltrating_tumor, cellular_tumor, vascular, necrosis]\n",
       "Index: []"
      ]
     },
     "execution_count": 13,
     "metadata": {},
     "output_type": "execute_result"
    }
   ],
   "source": [
    "pool = multiprocessing.Pool(processes = 12)\n",
    "results = pool.map(compute_counts, image_data_paths)\n",
    "region_correlation"
   ]
  },
  {
   "cell_type": "code",
   "execution_count": null,
   "id": "typical-lobby",
   "metadata": {},
   "outputs": [],
   "source": [
    "region_correlation.mean()"
   ]
  },
  {
   "cell_type": "code",
   "execution_count": null,
   "id": "correct-dispute",
   "metadata": {},
   "outputs": [],
   "source": []
  }
 ],
 "metadata": {
  "kernelspec": {
   "display_name": "Python 3",
   "language": "python",
   "name": "python3"
  },
  "language_info": {
   "codemirror_mode": {
    "name": "ipython",
    "version": 3
   },
   "file_extension": ".py",
   "mimetype": "text/x-python",
   "name": "python",
   "nbconvert_exporter": "python",
   "pygments_lexer": "ipython3",
   "version": "3.9.5"
  }
 },
 "nbformat": 4,
 "nbformat_minor": 5
}
