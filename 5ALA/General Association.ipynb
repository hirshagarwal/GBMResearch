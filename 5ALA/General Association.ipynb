{
 "cells": [
  {
   "cell_type": "code",
   "execution_count": 1,
   "id": "equivalent-property",
   "metadata": {},
   "outputs": [],
   "source": [
    "from skimage import data, io, filters\n",
    "from skimage.color import rgb2hed, hed2rgb\n",
    "from PIL import Image\n",
    "from matplotlib.colors import LinearSegmentedColormap\n",
    "import matplotlib.pyplot as plt\n",
    "import os\n",
    "import numpy as np\n",
    "import pandas as pd\n",
    "import multiprocessing\n",
    "import json\n",
    "from computation import *\n",
    "Image.MAX_IMAGE_PIXELS = None"
   ]
  },
  {
   "cell_type": "code",
   "execution_count": 2,
   "id": "graduate-fellowship",
   "metadata": {},
   "outputs": [
    {
     "name": "stdout",
     "output_type": "stream",
     "text": [
      "[('images/autoCDCP1', '310495235_ISH_CDCP1.jpg', '310495235_Annotation_CDCP1.jpg'), ('images/autoCDCP1', '310607655_ISH_CDCP1.jpg', '310607655_Annotation_CDCP1.jpg'), ('images/autoCDCP1', '310345133_ISH_CDCP1.jpg', '310345133_Annotation_CDCP1.jpg'), ('images/autoCDCP1', '310607287_ISH_CDCP1.jpg', '310607287_Annotation_CDCP1.jpg'), ('images/autoCDCP1', '310493016_ISH_CDCP1.jpg', '310493016_Annotation_CDCP1.jpg'), ('images/autoCDCP1', '310361054_ISH_CDCP1.jpg', '310361054_Annotation_CDCP1.jpg'), ('images/autoCDCP1', '298321880_ISH_CDCP1.jpg', '298321880_Annotation_CDCP1.jpg'), ('images/autoCDCP1', '298804416_ISH_CDCP1.jpg', '298804416_Annotation_CDCP1.jpg'), ('images/autoCDCP1', '310008821_ISH_CDCP1.jpg', '310008821_Annotation_CDCP1.jpg'), ('images/autoCDCP1', '310189041_ISH_CDCP1.jpg', '310189041_Annotation_CDCP1.jpg'), ('images/autoCDCP1', '310008812_ISH_CDCP1.jpg', '310008812_Annotation_CDCP1.jpg'), ('images/autoCDCP1', '310361080_ISH_CDCP1.jpg', '310361080_Annotation_CDCP1.jpg'), ('images/autoCDCP1', '310008838_ISH_CDCP1.jpg', '310008838_Annotation_CDCP1.jpg'), ('images/autoCDCP1', '310493025_ISH_CDCP1.jpg', '310493025_Annotation_CDCP1.jpg'), ('images/autoCDCP1', '310008792_ISH_CDCP1.jpg', '310008792_Annotation_CDCP1.jpg'), ('images/autoCDCP1', '310497487_ISH_CDCP1.jpg', '310497487_Annotation_CDCP1.jpg'), ('images/autoCDCP1', '310345100_ISH_CDCP1.jpg', '310345100_Annotation_CDCP1.jpg'), ('images/autoCDCP1', '310608279_ISH_CDCP1.jpg', '310608279_Annotation_CDCP1.jpg'), ('images/autoCDCP1', '310497400_ISH_CDCP1.jpg', '310497400_Annotation_CDCP1.jpg'), ('images/autoCDCP1', '310008795_ISH_CDCP1.jpg', '310008795_Annotation_CDCP1.jpg'), ('images/autoCDCP1', '298294693_ISH_CDCP1.jpg', '298294693_Annotation_CDCP1.jpg'), ('images/autoCDCP1', '310189046_ISH_CDCP1.jpg', '310189046_Annotation_CDCP1.jpg'), ('images/autoCDCP1', '310493030_ISH_CDCP1.jpg', '310493030_Annotation_CDCP1.jpg'), ('images/autoCDCP1', '310493232_ISH_CDCP1.jpg', '310493232_Annotation_CDCP1.jpg'), ('images/autoCDCP1', '310008774_ISH_CDCP1.jpg', '310008774_Annotation_CDCP1.jpg'), ('images/autoCDCP1', '310008780_ISH_CDCP1.jpg', '310008780_Annotation_CDCP1.jpg'), ('images/autoCDCP1', '310189034_ISH_CDCP1.jpg', '310189034_Annotation_CDCP1.jpg'), ('images/autoCDCP1', '310345138_ISH_CDCP1.jpg', '310345138_Annotation_CDCP1.jpg'), ('images/autoCDCP1', '310361075_ISH_CDCP1.jpg', '310361075_Annotation_CDCP1.jpg'), ('images/autoCDCP1', '310345105_ISH_CDCP1.jpg', '310345105_Annotation_CDCP1.jpg'), ('images/autoCDCP1', '310189027_ISH_CDCP1.jpg', '310189027_Annotation_CDCP1.jpg'), ('images/autoCDCP1', '310497578_ISH_CDCP1.jpg', '310497578_Annotation_CDCP1.jpg'), ('images/autoCDCP1', '310607282_ISH_CDCP1.jpg', '310607282_Annotation_CDCP1.jpg'), ('images/autoCDCP1', '310345118_ISH_CDCP1.jpg', '310345118_Annotation_CDCP1.jpg'), ('images/autoCDCP1', '310188994_ISH_CDCP1.jpg', '310188994_Annotation_CDCP1.jpg'), ('images/autoCDCP1', '310361051_ISH_CDCP1.jpg', '310361051_Annotation_CDCP1.jpg'), ('images/autoCDCP1', '310607442_ISH_CDCP1.jpg', '310607442_Annotation_CDCP1.jpg'), ('images/autoCDCP1', '310345125_ISH_CDCP1.jpg', '310345125_Annotation_CDCP1.jpg'), ('images/autoCDCP1', '310607934_ISH_CDCP1.jpg', '310607934_Annotation_CDCP1.jpg'), ('images/autoCDCP1', '310189049_ISH_CDCP1.jpg', '310189049_Annotation_CDCP1.jpg'), ('images/autoCDCP1', '310188974_ISH_CDCP1.jpg', '310188974_Annotation_CDCP1.jpg'), ('images/autoCDCP1', '310361088_ISH_CDCP1.jpg', '310361088_Annotation_CDCP1.jpg'), ('images/autoCDCP1', '310361035_ISH_CDCP1.jpg', '310361035_Annotation_CDCP1.jpg'), ('images/autoCDCP1', '310607296_ISH_CDCP1.jpg', '310607296_Annotation_CDCP1.jpg'), ('images/autoCDCP1', '310008789_ISH_CDCP1.jpg', '310008789_Annotation_CDCP1.jpg'), ('images/autoCDCP1', '310188984_ISH_CDCP1.jpg', '310188984_Annotation_CDCP1.jpg'), ('images/autoCDCP1', '310345108_ISH_CDCP1.jpg', '310345108_Annotation_CDCP1.jpg'), ('images/autoCDCP1', '310361045_ISH_CDCP1.jpg', '310361045_Annotation_CDCP1.jpg')] \n",
      "\n",
      "Number of cpu :  12\n"
     ]
    }
   ],
   "source": [
    "ish_images = []\n",
    "annotations = []\n",
    "image_data_paths = []\n",
    "gene_name = \"CD44 \"\n",
    "base_path = \"images/auto{0}\".format(gene_name)\n",
    "for file_name in os.listdir(base_path):\n",
    "    if \"Annotation\" in file_name:\n",
    "        annotations.append(file_name)\n",
    "    if \"ISH\" in file_name:\n",
    "        ish_images.append(file_name)\n",
    "for file_name in ish_images:\n",
    "    split_name = file_name.split(\"ISH\")[0]\n",
    "    for annotation_name in annotations:\n",
    "        annotation_split = annotation_name.split(\"Annotation\")[0]\n",
    "        if annotation_split == split_name:\n",
    "            image_data_paths.append((base_path, file_name, annotation_name))\n",
    "print(image_data_paths, \"\\n\")\n",
    "print(\"Number of cpu : \", multiprocessing.cpu_count())"
   ]
  },
  {
   "cell_type": "code",
   "execution_count": 3,
   "id": "orange-march",
   "metadata": {},
   "outputs": [],
   "source": [
    "region_labels = np.array(['leading_edge', 'infiltrating_tumor', 'cellular_tumor', 'vascular', 'necrosis', 'perinecrotic'])\n",
    "region_correlation = pd.DataFrame(columns=region_labels)"
   ]
  },
  {
   "cell_type": "code",
   "execution_count": null,
   "id": "desirable-madagascar",
   "metadata": {},
   "outputs": [],
   "source": [
    "pool = multiprocessing.Pool(processes = 1)\n",
    "compute_data = (base_path, image_data_paths)\n",
    "results = pool.map(compute_counts, image_data_paths)\n",
    "for result in results:\n",
    "    region_correlation.loc[result[0]] = result[1]\n",
    "region_correlation"
   ]
  },
  {
   "cell_type": "code",
   "execution_count": null,
   "id": "corrected-destiny",
   "metadata": {},
   "outputs": [],
   "source": [
    "region_correlation.mean()"
   ]
  },
  {
   "cell_type": "code",
   "execution_count": null,
   "id": "worthy-parish",
   "metadata": {},
   "outputs": [],
   "source": []
  }
 ],
 "metadata": {
  "kernelspec": {
   "display_name": "Python 3",
   "language": "python",
   "name": "python3"
  },
  "language_info": {
   "codemirror_mode": {
    "name": "ipython",
    "version": 3
   },
   "file_extension": ".py",
   "mimetype": "text/x-python",
   "name": "python",
   "nbconvert_exporter": "python",
   "pygments_lexer": "ipython3",
   "version": "3.9.5"
  }
 },
 "nbformat": 4,
 "nbformat_minor": 5
}