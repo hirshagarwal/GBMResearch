{
 "cells": [
  {
   "cell_type": "code",
   "execution_count": 1,
   "id": "crucial-sudan",
   "metadata": {},
   "outputs": [],
   "source": [
    "import pandas as pd\n",
    "from cmapPy.pandasGEXpress.parse_gct import parse\n",
    "from sklearn import preprocessing\n",
    "from sklearn.linear_model import LinearRegression\n",
    "from sklearn.svm import LinearSVC\n",
    "import numpy as np\n",
    "import urllib.request, json\n",
    "import requests\n",
    "import matplotlib.pyplot as plt"
   ]
  },
  {
   "cell_type": "code",
   "execution_count": 98,
   "id": "dependent-peninsula",
   "metadata": {},
   "outputs": [],
   "source": [
    "# Config\n",
    "%matplotlib inline"
   ]
  },
  {
   "cell_type": "code",
   "execution_count": 2,
   "id": "unique-signature",
   "metadata": {},
   "outputs": [],
   "source": [
    "data_parse = parse('../data/countMatrix.gct')\n",
    "data = data_parse.data_df.T"
   ]
  },
  {
   "cell_type": "code",
   "execution_count": 3,
   "id": "robust-princess",
   "metadata": {},
   "outputs": [],
   "source": [
    "def scale_data(data):\n",
    "    return (data - data.mean()) / (data.max() - data.min())"
   ]
  },
  {
   "cell_type": "code",
   "execution_count": 4,
   "id": "behind-tampa",
   "metadata": {},
   "outputs": [],
   "source": [
    "samples = data.index.values\n",
    "negative_sample_names = []\n",
    "positive_sample_names = []\n",
    "core_sample_names = []\n",
    "for sample_name in samples:\n",
    "    if \"neg\" in sample_name:\n",
    "        negative_sample_names.append(sample_name)\n",
    "    if \"pos\" in sample_name:\n",
    "        positive_sample_names.append(sample_name)\n",
    "    if \"1\" in sample_name:\n",
    "        core_sample_names.append(sample_name)"
   ]
  },
  {
   "cell_type": "code",
   "execution_count": 5,
   "id": "clean-collection",
   "metadata": {},
   "outputs": [],
   "source": [
    "scaled_data = scale_data(data)\n",
    "negative_samples = data.loc[negative_sample_names]\n",
    "positive_samples = data.loc[positive_sample_names]\n",
    "core_samples = data.loc[core_sample_names]\n",
    "scaled_negative = scaled_data.loc[negative_sample_names]\n",
    "scaled_positive = scaled_data.loc[positive_sample_names]\n",
    "scaled_core = scaled_data.loc[core_sample_names]\n",
    "negative_samples.index = ['27', '28', '29', '30', '31', '33', '34', '37', '38', '40']\n",
    "positive_samples.index = ['27', '28', '29', '30', '31', '33', '34', '37', '38', '40']\n",
    "core_samples.index = ['27', '28', '29', '30', '31', '33', '34', '37', '38', '40']\n",
    "scaled_negative.index = ['27', '28', '29', '30', '31', '33', '34', '37', '38', '40']\n",
    "scaled_positive.index = ['27', '28', '29', '30', '31', '33', '34', '37', '38', '40']\n",
    "scaled_core.index = ['27', '28', '29', '30', '31', '33', '34', '37', '38', '40']"
   ]
  },
  {
   "cell_type": "code",
   "execution_count": 6,
   "id": "possible-lincoln",
   "metadata": {},
   "outputs": [],
   "source": [
    "expression_differential = negative_samples - positive_samples\n",
    "mean_difference = expression_differential.mean()"
   ]
  },
  {
   "cell_type": "code",
   "execution_count": 8,
   "id": "defined-embassy",
   "metadata": {},
   "outputs": [
    {
     "data": {
      "text/plain": [
       "rid\n",
       "HBB       25867.667969\n",
       "HBA2      16855.988281\n",
       "HBA1      14685.716797\n",
       "S100A9     7191.857910\n",
       "S100A8     4922.477051\n",
       "              ...     \n",
       "APOE      -3879.011719\n",
       "C1QA      -5043.845215\n",
       "C1QB      -5382.215820\n",
       "CCL4      -9430.874023\n",
       "CCL3     -14621.046875\n",
       "Length: 13475, dtype: float32"
      ]
     },
     "execution_count": 8,
     "metadata": {},
     "output_type": "execute_result"
    }
   ],
   "source": [
    "mean_difference.sort_values(ascending=False)"
   ]
  },
  {
   "cell_type": "code",
   "execution_count": 9,
   "id": "alone-childhood",
   "metadata": {},
   "outputs": [
    {
     "name": "stdout",
     "output_type": "stream",
     "text": [
      "Gene Name: A4GALT has correlation: [0.01247817]\n",
      "Gene Name: AANAT has correlation: [0.0154294]\n",
      "Gene Name: ABCA4 has correlation: [0.05367116]\n",
      "Gene Name: ADH1B has correlation: [0.06064701]\n",
      "Gene Name: ANKDD1B has correlation: [0.22173338]\n",
      "Gene Name: C12orf42 has correlation: [0.2722553]\n",
      "Gene Name: FAM225A has correlation: [0.3383364]\n",
      "Gene Name: GRINA has correlation: [0.4603218]\n",
      "Gene Name: RENBP has correlation: [0.7222639]\n"
     ]
    }
   ],
   "source": [
    "linear_model = LinearRegression()\n",
    "top_coef = 0\n",
    "top_gene = \"\"\n",
    "gene_correlation = pd.DataFrame(columns=['Score'])\n",
    "for gene_name in data.columns.values:\n",
    "    if 0 in (negative_samples[gene_name] + positive_samples[gene_name]).values:\n",
    "        continue\n",
    "    all_samples_shaped = negative_samples[gene_name].append(positive_samples[gene_name]).values.reshape(-1, 1)\n",
    "    linear_model.fit(all_samples_shaped, ([0] * negative_samples.shape[0]) + [1] * positive_samples.shape[0])\n",
    "    coef = linear_model.coef_\n",
    "    gene_correlation.loc[gene_name] = coef\n",
    "    if coef > top_coef:\n",
    "        top_coef = coef\n",
    "        top_gene = gene_name\n",
    "        print(\"Gene Name: {0} has correlation: {1}\".format(gene_name, coef))"
   ]
  },
  {
   "cell_type": "code",
   "execution_count": 149,
   "id": "challenging-transcript",
   "metadata": {},
   "outputs": [
    {
     "name": "stdout",
     "output_type": "stream",
     "text": [
      "Gene A1CF has score 0.6\n",
      "Gene AADAT has score 0.65\n",
      "Gene ABCA8 has score 0.75\n",
      "Gene ACYP1 has score 0.8\n",
      "Gene MDK has score 0.85\n",
      "Gene TOR4A has score 0.9\n"
     ]
    }
   ],
   "source": [
    "# 5ALA +ve vs -ve SVM\n",
    "svc = LinearSVC()\n",
    "top_score = 0\n",
    "top_gene = \"\"\n",
    "svc_correlation = pd.DataFrame(columns=['Score'])\n",
    "for gene_name in data.columns.values:\n",
    "    if 0 in scaled_negative[gene_name].values or 0 in scaled_positive[gene_name].values:\n",
    "        continue\n",
    "    if np.sum(scaled_negative[gene_name] + scaled_positive[gene_name]) == 0:\n",
    "        continue\n",
    "    all_samples_shaped = scaled_negative[gene_name].append(scaled_positive[gene_name]).values.reshape(-1, 1)\n",
    "    labels = ([0] * negative_samples.shape[0]) + [1] * positive_samples.shape[0]\n",
    "    svc.fit(all_samples_shaped, labels)\n",
    "    score = svc.score(all_samples_shaped, labels)\n",
    "    svc_correlation.loc[gene_name] = score\n",
    "    if score > top_score:\n",
    "        top_score = score\n",
    "        top_gene = gene_name\n",
    "        print(\"Gene {0} has score {1}\".format(gene_name, svc.score(all_samples_shaped, labels)))"
   ]
  },
  {
   "cell_type": "code",
   "execution_count": 148,
   "id": "civilian-things",
   "metadata": {},
   "outputs": [
    {
     "name": "stdout",
     "output_type": "stream",
     "text": [
      "Gene A1CF has score 0.55\n",
      "Gene AAAS has score 0.85\n",
      "Gene ABAT has score 0.9\n",
      "Gene ARHGEF25 has score 0.95\n"
     ]
    }
   ],
   "source": [
    "# 5ALA +ve vs Core SVM\n",
    "svc = LinearSVC()\n",
    "top_score = 0\n",
    "top_gene = \"\"\n",
    "core_svc = pd.DataFrame(columns=['Score'])\n",
    "for gene_name in data.columns.values:\n",
    "    if 0 in scaled_core[gene_name].values or 0 in scaled_positive[gene_name].values:\n",
    "        continue\n",
    "    if np.sum(scaled_core[gene_name] + scaled_positive[gene_name]) == 0:\n",
    "        continue\n",
    "    all_samples_shaped = scaled_core[gene_name].append(scaled_positive[gene_name]).values.reshape(-1, 1)\n",
    "    labels = ([0] * scaled_core.shape[0]) + [1] * positive_samples.shape[0]\n",
    "    svc.fit(all_samples_shaped, labels)\n",
    "    score = svc.score(all_samples_shaped, labels)\n",
    "    core_svc.loc[gene_name] = score\n",
    "    if score > top_score:\n",
    "        top_score = score\n",
    "        top_gene = gene_name\n",
    "        print(\"Gene {0} has score {1}\".format(gene_name, svc.score(all_samples_shaped, labels)))"
   ]
  },
  {
   "cell_type": "code",
   "execution_count": 54,
   "id": "rotary-murray",
   "metadata": {},
   "outputs": [
    {
     "name": "stdout",
     "output_type": "stream",
     "text": [
      "Gene A1CF has score 0.7\n",
      "Gene ABCB4 has score 0.7333333333333333\n",
      "Gene ADA2 has score 0.8\n",
      "Gene AXL has score 0.8333333333333334\n",
      "Gene CSRNP1 has score 0.8666666666666667\n",
      "Gene TRIB1 has score 0.9\n"
     ]
    },
    {
     "data": {
      "text/html": [
       "<div>\n",
       "<style scoped>\n",
       "    .dataframe tbody tr th:only-of-type {\n",
       "        vertical-align: middle;\n",
       "    }\n",
       "\n",
       "    .dataframe tbody tr th {\n",
       "        vertical-align: top;\n",
       "    }\n",
       "\n",
       "    .dataframe thead th {\n",
       "        text-align: right;\n",
       "    }\n",
       "</style>\n",
       "<table border=\"1\" class=\"dataframe\">\n",
       "  <thead>\n",
       "    <tr style=\"text-align: right;\">\n",
       "      <th></th>\n",
       "      <th>Score</th>\n",
       "    </tr>\n",
       "  </thead>\n",
       "  <tbody>\n",
       "    <tr>\n",
       "      <th>TRIB1</th>\n",
       "      <td>0.900000</td>\n",
       "    </tr>\n",
       "    <tr>\n",
       "      <th>SLC2A5</th>\n",
       "      <td>0.866667</td>\n",
       "    </tr>\n",
       "    <tr>\n",
       "      <th>CSRNP1</th>\n",
       "      <td>0.866667</td>\n",
       "    </tr>\n",
       "    <tr>\n",
       "      <th>SYNGR2</th>\n",
       "      <td>0.833333</td>\n",
       "    </tr>\n",
       "    <tr>\n",
       "      <th>PLEKHO2</th>\n",
       "      <td>0.833333</td>\n",
       "    </tr>\n",
       "    <tr>\n",
       "      <th>CD84</th>\n",
       "      <td>0.833333</td>\n",
       "    </tr>\n",
       "    <tr>\n",
       "      <th>KLF2</th>\n",
       "      <td>0.833333</td>\n",
       "    </tr>\n",
       "    <tr>\n",
       "      <th>KBTBD8</th>\n",
       "      <td>0.833333</td>\n",
       "    </tr>\n",
       "    <tr>\n",
       "      <th>IL10RA</th>\n",
       "      <td>0.833333</td>\n",
       "    </tr>\n",
       "    <tr>\n",
       "      <th>AXL</th>\n",
       "      <td>0.833333</td>\n",
       "    </tr>\n",
       "  </tbody>\n",
       "</table>\n",
       "</div>"
      ],
      "text/plain": [
       "            Score\n",
       "TRIB1    0.900000\n",
       "SLC2A5   0.866667\n",
       "CSRNP1   0.866667\n",
       "SYNGR2   0.833333\n",
       "PLEKHO2  0.833333\n",
       "CD84     0.833333\n",
       "KLF2     0.833333\n",
       "KBTBD8   0.833333\n",
       "IL10RA   0.833333\n",
       "AXL      0.833333"
      ]
     },
     "execution_count": 54,
     "metadata": {},
     "output_type": "execute_result"
    }
   ],
   "source": [
    "# 5ALA +ve/-ve and Core 3 variable SVM\n",
    "svc = LinearSVC()\n",
    "top_score = 0\n",
    "top_gene = \"\"\n",
    "multi_svc = pd.DataFrame(columns=['Score'])\n",
    "for gene_name in data.columns.values:\n",
    "    if 0 in scaled_core[gene_name].values or 0 in scaled_positive[gene_name].values or 0 in scaled_negative[gene_name].values:\n",
    "        continue\n",
    "    if np.sum(scaled_core[gene_name] + scaled_positive[gene_name] + scaled_negative[gene_name]) == 0:\n",
    "        continue\n",
    "    all_samples_shaped = scaled_core[gene_name].append(scaled_positive[gene_name]).append(scaled_negative[gene_name]).values.reshape(-1, 1)\n",
    "    labels = ([\"a\"] * scaled_core.shape[0]) + ([\"b\"] * positive_samples.shape[0]) + ([\"a\"] * negative_samples.shape[0])\n",
    "    svc.fit(all_samples_shaped, labels)\n",
    "    score = svc.score(all_samples_shaped, labels)\n",
    "    multi_svc.loc[gene_name] = score\n",
    "    if score > top_score:\n",
    "        top_score = score\n",
    "        top_gene = gene_name\n",
    "        print(\"Gene {0} has score {1}\".format(gene_name, svc.score(all_samples_shaped, labels)))\n",
    "multi_svc.sort_values(by='Score', ascending=False).head(10)"
   ]
  },
  {
   "cell_type": "code",
   "execution_count": 40,
   "id": "opposed-marriage",
   "metadata": {},
   "outputs": [],
   "source": [
    "def find_available_samples(sorted_gene_list, n):\n",
    "    found_n = 0\n",
    "    searched = 0\n",
    "    for gene_name in sorted_gene_list.index.values:\n",
    "        fetch_samples_url = \"http://api.brain-map.org/api/v2/data/query.json?criteria=model::SectionDataSet,rma::criteria,treatments[name$eq\\'ISH\\'],genes[acronym$eq\\'{0}\\'],rma::include,genes,sub_images\".format(gene_name)\n",
    "        with urllib.request.urlopen(fetch_samples_url) as url:\n",
    "            raw_json = json.loads(url.read().decode())\n",
    "            searched += 1\n",
    "            if raw_json['num_rows'] > 0:\n",
    "                found_n += 1\n",
    "                print(\"{0} ({1}) has {2} samples after searching {3}\".format(gene_name, sorted_gene_list.loc[gene_name][0], raw_json['total_rows'], searched))\n",
    "            if found_n >= n:\n",
    "                break"
   ]
  },
  {
   "cell_type": "code",
   "execution_count": 42,
   "id": "mighty-optics",
   "metadata": {},
   "outputs": [],
   "source": [
    "# Find Difference Samples\n",
    "#find_available_samples(mean_difference.sort_values(ascending=False), 5)"
   ]
  },
  {
   "cell_type": "code",
   "execution_count": 47,
   "id": "absent-approach",
   "metadata": {},
   "outputs": [
    {
     "ename": "NameError",
     "evalue": "name 'gene_correlation' is not defined",
     "output_type": "error",
     "traceback": [
      "\u001b[0;31m---------------------------------------------------------------------------\u001b[0m",
      "\u001b[0;31mNameError\u001b[0m                                 Traceback (most recent call last)",
      "\u001b[0;32m<ipython-input-47-e83c241010ae>\u001b[0m in \u001b[0;36m<module>\u001b[0;34m\u001b[0m\n\u001b[1;32m      1\u001b[0m \u001b[0;31m# Find Linear Regression Samples\u001b[0m\u001b[0;34m\u001b[0m\u001b[0;34m\u001b[0m\u001b[0;34m\u001b[0m\u001b[0m\n\u001b[0;32m----> 2\u001b[0;31m \u001b[0mgene_correlation_sorted\u001b[0m \u001b[0;34m=\u001b[0m \u001b[0mgene_correlation\u001b[0m\u001b[0;34m.\u001b[0m\u001b[0msort_values\u001b[0m\u001b[0;34m(\u001b[0m\u001b[0mby\u001b[0m\u001b[0;34m=\u001b[0m\u001b[0;34m'Score'\u001b[0m\u001b[0;34m,\u001b[0m \u001b[0mascending\u001b[0m\u001b[0;34m=\u001b[0m\u001b[0;32mFalse\u001b[0m\u001b[0;34m)\u001b[0m\u001b[0;34m\u001b[0m\u001b[0;34m\u001b[0m\u001b[0m\n\u001b[0m\u001b[1;32m      3\u001b[0m \u001b[0mfind_available_samples\u001b[0m\u001b[0;34m(\u001b[0m\u001b[0mgene_correlation_sorted\u001b[0m\u001b[0;34m,\u001b[0m \u001b[0;36m5\u001b[0m\u001b[0;34m)\u001b[0m\u001b[0;34m\u001b[0m\u001b[0;34m\u001b[0m\u001b[0m\n",
      "\u001b[0;31mNameError\u001b[0m: name 'gene_correlation' is not defined"
     ]
    }
   ],
   "source": [
    "# Find Linear Regression Samples\n",
    "gene_correlation_sorted = gene_correlation.sort_values(by='Score', ascending=False)\n",
    "find_available_samples(gene_correlation_sorted, 5)"
   ]
  },
  {
   "cell_type": "code",
   "execution_count": 48,
   "id": "coupled-midnight",
   "metadata": {},
   "outputs": [
    {
     "name": "stdout",
     "output_type": "stream",
     "text": [
      "SRP9 (0.8) has 6 samples after searching 22\n",
      "RPS6 (0.8) has 5 samples after searching 26\n",
      "HTR7 (0.75) has 65 samples after searching 47\n",
      "PAM (0.75) has 6 samples after searching 62\n",
      "HDAC1 (0.75) has 8 samples after searching 64\n"
     ]
    }
   ],
   "source": [
    "# Find SVM Samples\n",
    "svc_correlation_sorted = svc_correlation.sort_values(by='Score', ascending=False)\n",
    "find_available_samples(svc_correlation_sorted, 5)"
   ]
  },
  {
   "cell_type": "code",
   "execution_count": 136,
   "id": "express-component",
   "metadata": {},
   "outputs": [
    {
     "name": "stdout",
     "output_type": "stream",
     "text": [
      "SYNGR2 (0.8333333333333334) has 7 samples after searching 4\n",
      "IL10RA (0.8333333333333334) has 8 samples after searching 9\n",
      "GM2A (0.8333333333333334) has 4 samples after searching 14\n",
      "STXBP2 (0.8333333333333334) has 5 samples after searching 16\n",
      "NR4A2 (0.8333333333333334) has 102 samples after searching 21\n",
      "IGF1 (0.8) has 6 samples after searching 32\n",
      "STX11 (0.8) has 5 samples after searching 41\n",
      "ZFHX3 (0.8) has 6 samples after searching 44\n",
      "GPRIN3 (0.8) has 8 samples after searching 49\n",
      "IL1B (0.8) has 6 samples after searching 57\n",
      "ADH1B (0.8) has 8 samples after searching 88\n",
      "PARVG (0.8) has 8 samples after searching 91\n",
      "C3 (0.8) has 3 samples after searching 93\n",
      "STARD8 (0.8) has 12 samples after searching 97\n",
      "CTSH (0.8) has 48 samples after searching 104\n"
     ]
    }
   ],
   "source": [
    "# Find Multi-SVM Samples\n",
    "multi_svc_sorted = multi_svc.sort_values(by='Score', ascending=False)\n",
    "find_available_samples(multi_svc_sorted, 15)"
   ]
  },
  {
   "cell_type": "code",
   "execution_count": 150,
   "id": "reserved-paper",
   "metadata": {},
   "outputs": [],
   "source": [
    "core_vs_positive_svc = pd.DataFrame(columns=['Score'])\n",
    "for gene_name in svc_correlation.index.values:\n",
    "    core_vs_positive_svc.loc[gene_name] = core_svc.loc[gene_name] + svc_correlation.loc[gene_name]"
   ]
  },
  {
   "cell_type": "code",
   "execution_count": null,
   "id": "pleased-dancing",
   "metadata": {},
   "outputs": [],
   "source": [
    "# Find 5ALA+Core\n",
    "core_vs_positive_sorted = core_vs_positive_svc.sort_values(by='Score', ascending=False)\n",
    "find_available_samples(core_vs_positive_sorted, 15)"
   ]
  },
  {
   "cell_type": "code",
   "execution_count": 50,
   "id": "hourly-aging",
   "metadata": {},
   "outputs": [
    {
     "data": {
      "text/html": [
       "<div>\n",
       "<style scoped>\n",
       "    .dataframe tbody tr th:only-of-type {\n",
       "        vertical-align: middle;\n",
       "    }\n",
       "\n",
       "    .dataframe tbody tr th {\n",
       "        vertical-align: top;\n",
       "    }\n",
       "\n",
       "    .dataframe thead th {\n",
       "        text-align: right;\n",
       "    }\n",
       "</style>\n",
       "<table border=\"1\" class=\"dataframe\">\n",
       "  <thead>\n",
       "    <tr style=\"text-align: right;\">\n",
       "      <th></th>\n",
       "      <th>Score</th>\n",
       "    </tr>\n",
       "  </thead>\n",
       "  <tbody>\n",
       "    <tr>\n",
       "      <th>MPLKIP</th>\n",
       "      <td>0.700000</td>\n",
       "    </tr>\n",
       "    <tr>\n",
       "      <th>CCL4</th>\n",
       "      <td>0.666667</td>\n",
       "    </tr>\n",
       "    <tr>\n",
       "      <th>IP6K2</th>\n",
       "      <td>0.666667</td>\n",
       "    </tr>\n",
       "    <tr>\n",
       "      <th>PEX12</th>\n",
       "      <td>0.666667</td>\n",
       "    </tr>\n",
       "    <tr>\n",
       "      <th>CD320</th>\n",
       "      <td>0.666667</td>\n",
       "    </tr>\n",
       "  </tbody>\n",
       "</table>\n",
       "</div>"
      ],
      "text/plain": [
       "           Score\n",
       "MPLKIP  0.700000\n",
       "CCL4    0.666667\n",
       "IP6K2   0.666667\n",
       "PEX12   0.666667\n",
       "CD320   0.666667"
      ]
     },
     "execution_count": 50,
     "metadata": {},
     "output_type": "execute_result"
    }
   ],
   "source": [
    "core_svc_sorted = core_svc.sort_values(by='Score', ascending=False)\n",
    "core_svc_sorted.head(5)"
   ]
  },
  {
   "cell_type": "code",
   "execution_count": 51,
   "id": "identical-prompt",
   "metadata": {},
   "outputs": [
    {
     "data": {
      "text/html": [
       "<div>\n",
       "<style scoped>\n",
       "    .dataframe tbody tr th:only-of-type {\n",
       "        vertical-align: middle;\n",
       "    }\n",
       "\n",
       "    .dataframe tbody tr th {\n",
       "        vertical-align: top;\n",
       "    }\n",
       "\n",
       "    .dataframe thead th {\n",
       "        text-align: right;\n",
       "    }\n",
       "</style>\n",
       "<table border=\"1\" class=\"dataframe\">\n",
       "  <thead>\n",
       "    <tr style=\"text-align: right;\">\n",
       "      <th></th>\n",
       "      <th>Score</th>\n",
       "    </tr>\n",
       "  </thead>\n",
       "  <tbody>\n",
       "    <tr>\n",
       "      <th>TOR4A</th>\n",
       "      <td>0.90</td>\n",
       "    </tr>\n",
       "    <tr>\n",
       "      <th>TRPM2</th>\n",
       "      <td>0.85</td>\n",
       "    </tr>\n",
       "    <tr>\n",
       "      <th>SF3B6</th>\n",
       "      <td>0.85</td>\n",
       "    </tr>\n",
       "    <tr>\n",
       "      <th>MDK</th>\n",
       "      <td>0.85</td>\n",
       "    </tr>\n",
       "    <tr>\n",
       "      <th>FCER1A</th>\n",
       "      <td>0.80</td>\n",
       "    </tr>\n",
       "  </tbody>\n",
       "</table>\n",
       "</div>"
      ],
      "text/plain": [
       "        Score\n",
       "TOR4A    0.90\n",
       "TRPM2    0.85\n",
       "SF3B6    0.85\n",
       "MDK      0.85\n",
       "FCER1A   0.80"
      ]
     },
     "execution_count": 51,
     "metadata": {},
     "output_type": "execute_result"
    }
   ],
   "source": [
    "svc_correlation_sorted.head(5)"
   ]
  },
  {
   "cell_type": "code",
   "execution_count": 154,
   "id": "verified-leone",
   "metadata": {},
   "outputs": [
    {
     "name": "stdout",
     "output_type": "stream",
     "text": [
      "5ALA +ve/-ve Correlation: 0.8 \n",
      "5ALA +ve/Core Correlation: 0.95\n"
     ]
    },
    {
     "data": {
      "image/png": "[encoded data removed]",
      "text/plain": [
       "<Figure size 720x360 with 2 Axes>"
      ]
     },
     "metadata": {
      "needs_background": "light"
     },
     "output_type": "display_data"
    }
   ],
   "source": [
    "# %5ALA +ve vs -ve\n",
    "target_gene = \"SRP9\"\n",
    "fig, (ax1, ax2) = plt.subplots(1, 2)\n",
    "fig.suptitle(\"{0} Region Comparison\".format(target_gene))\n",
    "ax1.set_title('5ALA +ve vs -ve Expression')\n",
    "ax1.plot(positive_samples[target_gene])\n",
    "ax1.plot(negative_samples[target_gene])\n",
    "ax2.set_title('5ALA +ve vs core Expression')\n",
    "ax2.plot(positive_samples[target_gene])\n",
    "ax2.plot(core_samples[target_gene])\n",
    "ax1.legend(['5ALA+', '5ALA-'])\n",
    "ax2.legend(['5ALA+', 'Core'])\n",
    "print(\"5ALA +ve/-ve Correlation: {0} \\n\\\n",
    "5ALA +ve/Core Correlation: {1}\\\n",
    "\".format(svc_correlation.loc[target_gene]['Score'], core_svc.loc[target_gene]['Score']))\n",
    "# plt.rcParams['figure.figsize'] = [10, 5]\n",
    "plt.show()"
   ]
  },
  {
   "cell_type": "code",
   "execution_count": 101,
   "id": "further-stadium",
   "metadata": {},
   "outputs": [
    {
     "data": {
      "image/png": "[encoded data removed]",
      "text/plain": [
       "<Figure size 720x360 with 1 Axes>"
      ]
     },
     "metadata": {
      "needs_background": "light"
     },
     "output_type": "display_data"
    }
   ],
   "source": [
    "KLtarget_gene1 = \"CCL2\"\n",
    "target_gene2 = \"CD44\"\n",
    "plt.scatter(negative_samples[target_gene1], negative_samples[target_gene2])\n",
    "plt.scatter(positive_samples[target_gene1], positive_samples[target_gene2])\n",
    "plt.show()"
   ]
  },
  {
   "cell_type": "code",
   "execution_count": null,
   "id": "boxed-vacuum",
   "metadata": {},
   "outputs": [],
   "source": []
  }
 ],
 "metadata": {
  "kernelspec": {
   "display_name": "Python 3",
   "language": "python",
   "name": "python3"
  },
  "language_info": {
   "codemirror_mode": {
    "name": "ipython",
    "version": 3
   },
   "file_extension": ".py",
   "mimetype": "text/x-python",
   "name": "python",
   "nbconvert_exporter": "python",
   "pygments_lexer": "ipython3",
   "version": "3.9.5"
  }
 },
 "nbformat": 4,
 "nbformat_minor": 5
}
