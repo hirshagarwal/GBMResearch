{
 "cells": [
  {
   "cell_type": "code",
   "execution_count": 376,
   "id": "crucial-sudan",
   "metadata": {},
   "outputs": [],
   "source": [
    "import pandas as pd\n",
    "from cmapPy.pandasGEXpress.parse_gct import parse\n",
    "from sklearn import preprocessing\n",
    "from sklearn.linear_model import LinearRegression\n",
    "from sklearn.svm import LinearSVC\n",
    "import numpy as np\n",
    "import urllib.request, json\n",
    "import requests\n",
    "import matplotlib.pyplot as plt"
   ]
  },
  {
   "cell_type": "code",
   "execution_count": 10,
   "id": "unique-signature",
   "metadata": {},
   "outputs": [],
   "source": [
    "data_parse = parse('../data/countMatrix.gct')\n",
    "data = data_parse.data_df.T"
   ]
  },
  {
   "cell_type": "code",
   "execution_count": 152,
   "id": "robust-princess",
   "metadata": {},
   "outputs": [],
   "source": [
    "def scale_data(data):\n",
    "    return (data - data.mean()) / (data.max() - data.min())"
   ]
  },
  {
   "cell_type": "code",
   "execution_count": 377,
   "id": "behind-tampa",
   "metadata": {},
   "outputs": [],
   "source": [
    "samples = data.index.values\n",
    "negative_sample_names = []\n",
    "positive_sample_names = []\n",
    "for sample_name in samples:\n",
    "    if \"neg\" in sample_name:\n",
    "        negative_sample_names.append(sample_name)\n",
    "    if \"pos\" in sample_name:\n",
    "        positive_sample_names.append(sample_name)"
   ]
  },
  {
   "cell_type": "code",
   "execution_count": 378,
   "id": "clean-collection",
   "metadata": {},
   "outputs": [],
   "source": [
    "negative_samples = data.loc[negative_sample_names]\n",
    "positive_samples = data.loc[positive_sample_names]\n",
    "negative_samples.index = ['27', '28', '29', '30', '31', '33', '34', '37', '38', '40']\n",
    "positive_samples.index = ['27', '28', '29', '30', '31', '33', '34', '37', '38', '40']"
   ]
  },
  {
   "cell_type": "code",
   "execution_count": 157,
   "id": "possible-lincoln",
   "metadata": {},
   "outputs": [],
   "source": [
    "expression_differential = negative_samples - positive_samples\n",
    "mean_difference = expression_differential.mean()"
   ]
  },
  {
   "cell_type": "code",
   "execution_count": 178,
   "id": "defined-embassy",
   "metadata": {},
   "outputs": [
    {
     "data": {
      "text/plain": [
       "rid\n",
       "HBB       25867.667969\n",
       "HBA2      16855.988281\n",
       "HBA1      14685.716797\n",
       "S100A9     7191.857910\n",
       "S100A8     4922.477051\n",
       "              ...     \n",
       "APOE      -3879.011719\n",
       "C1QA      -5043.845215\n",
       "C1QB      -5382.215820\n",
       "CCL4      -9430.874023\n",
       "CCL3     -14621.046875\n",
       "Length: 13475, dtype: float32"
      ]
     },
     "execution_count": 178,
     "metadata": {},
     "output_type": "execute_result"
    }
   ],
   "source": [
    "mean_difference.sort_values(ascending=False)"
   ]
  },
  {
   "cell_type": "code",
   "execution_count": 310,
   "id": "alone-childhood",
   "metadata": {},
   "outputs": [
    {
     "name": "stdout",
     "output_type": "stream",
     "text": [
      "Gene Name: A4GALT has correlation: [0.01247817]\n",
      "Gene Name: AANAT has correlation: [0.0154294]\n",
      "Gene Name: ABCA4 has correlation: [0.05367116]\n",
      "Gene Name: ADH1B has correlation: [0.06064701]\n",
      "Gene Name: ANKDD1B has correlation: [0.22173338]\n",
      "Gene Name: C12orf42 has correlation: [0.2722553]\n",
      "Gene Name: FAM225A has correlation: [0.3383364]\n",
      "Gene Name: GRINA has correlation: [0.4603218]\n",
      "Gene Name: RENBP has correlation: [0.7222639]\n"
     ]
    }
   ],
   "source": [
    "linear_model = LinearRegression()\n",
    "top_coef = 0\n",
    "top_gene = \"\"\n",
    "gene_correlation = pd.DataFrame(columns=['Score'])\n",
    "for gene_name in data.columns.values:\n",
    "    if 0 in (negative_samples[gene_name] + positive_samples[gene_name]).values:\n",
    "        continue\n",
    "    all_samples_shaped = negative_samples[gene_name].append(positive_samples[gene_name]).values.reshape(-1, 1)\n",
    "    linear_model.fit(all_samples_shaped, ([0] * negative_samples.shape[0]) + [1] * positive_samples.shape[0])\n",
    "    coef = linear_model.coef_\n",
    "    gene_correlation.loc[gene_name] = coef\n",
    "    if coef > top_coef:\n",
    "        top_coef = coef\n",
    "        top_gene = gene_name\n",
    "        print(\"Gene Name: {0} has correlation: {1}\".format(gene_name, coef))"
   ]
  },
  {
   "cell_type": "code",
   "execution_count": 407,
   "id": "clean-nomination",
   "metadata": {},
   "outputs": [
    {
     "name": "stdout",
     "output_type": "stream",
     "text": [
      "Gene A3GALT2 has coef [[2.53762969e-06]] with score 0.5\n",
      "Gene AAR2 has coef [[1.20906934e-05]] with score 0.5\n",
      "Gene ABAT has coef [[1.36896343e-05]] with score 0.5\n",
      "Gene ABHD2 has coef [[1.73616196e-05]] with score 0.5\n",
      "Gene ACBD5 has coef [[2.15517391e-05]] with score 0.55\n",
      "Gene ADAMTS19 has coef [[2.51988652e-05]] with score 0.4\n",
      "Gene ATP8A2 has coef [[2.62891868e-05]] with score 0.5\n",
      "Gene ENTPD6 has coef [[2.81860025e-05]] with score 0.55\n",
      "Gene RHBDL3 has coef [[2.95326488e-05]] with score 0.65\n",
      "Gene ZC3H13 has coef [[2.99523477e-05]] with score 0.6\n"
     ]
    }
   ],
   "source": [
    "svc = LinearSVC()\n",
    "top_score = 0\n",
    "top_gene = \"\"\n",
    "svc_correlation = pd.DataFrame(columns=['Score'])\n",
    "scaled_negative = scale_data(negative_samples)\n",
    "scaled_positive = scale_data(positive_samples)\n",
    "for gene_name in data.columns.values:\n",
    "    if 0 in (scaled_negative[gene_name] + scaled_positive[gene_name]).values:\n",
    "        continue\n",
    "    if np.sum(scaled_negative[gene_name] + scaled_positive[gene_name]) == 0:\n",
    "        continue\n",
    "    all_samples_shaped = scaled_negative[gene_name].append(scaled_positive[gene_name]).values.reshape(-1, 1)\n",
    "    labels = ([0] * negative_samples.shape[0]) + [1] * positive_samples.shape[0]\n",
    "    svc.fit(all_samples_shaped, labels)\n",
    "    svc_correlation.loc[gene_name] = svc.coef_[0]\n",
    "    score = svc.score(all_samples_shaped, labels)\n",
    "    if score > score:\n",
    "        top_score = score\n",
    "        top_gene = gene_name\n",
    "        print(\"Gene {0} has score {1}\".format(gene_name, svc.score(all_samples_shaped, labels)))"
   ]
  },
  {
   "cell_type": "code",
   "execution_count": 356,
   "id": "opposed-marriage",
   "metadata": {},
   "outputs": [],
   "source": [
    "def find_available_samples(sorted_gene_list, n):\n",
    "    found_n = 0\n",
    "    searched = 0\n",
    "    for gene_name in sorted_gene_list.index.values:\n",
    "        fetch_samples_url = \"http://api.brain-map.org/api/v2/data/query.json?criteria=model::SectionDataSet,rma::criteria,treatments[name$eq\\'ISH\\'],genes[acronym$eq\\'{0}\\'],rma::include,genes,sub_images\".format(gene_name)\n",
    "        with urllib.request.urlopen(fetch_samples_url) as url:\n",
    "            raw_json = json.loads(url.read().decode())\n",
    "            searched += 1\n",
    "            if raw_json['num_rows'] > 0:\n",
    "                found_n += 1\n",
    "                print(\"{0} has {1} samples after searching {2}\".format(gene_name, raw_json['total_rows'], searched))\n",
    "            if found_n >= n:\n",
    "                break"
   ]
  },
  {
   "cell_type": "code",
   "execution_count": 312,
   "id": "absent-approach",
   "metadata": {},
   "outputs": [
    {
     "name": "stdout",
     "output_type": "stream",
     "text": [
      "GRINA has 5 samples after searching 2\n",
      "TACR2 has 3 samples after searching 11\n",
      "CPNE6 has 5 samples after searching 50\n",
      "SYT16 has 5 samples after searching 54\n",
      "ADH1B has 8 samples after searching 64\n",
      "LGI1 has 6 samples after searching 72\n",
      "IGF1 has 6 samples after searching 78\n",
      "DSP has 12 samples after searching 79\n",
      "DCSTAMP has 5 samples after searching 82\n",
      "GRM6 has 14 samples after searching 94\n"
     ]
    }
   ],
   "source": [
    "gene_correlation_sorted = gene_correlation.sort_values(by='Score', ascending=False)\n",
    "find_available_samples(gene_correlation_sorted, 10)"
   ]
  },
  {
   "cell_type": "code",
   "execution_count": 321,
   "id": "alert-learning",
   "metadata": {},
   "outputs": [
    {
     "name": "stdout",
     "output_type": "stream",
     "text": [
      "             Score\n",
      "RENBP     0.722264\n",
      "GRINA     0.460322\n",
      "MCOLN3    0.385980\n",
      "FAM225A   0.338336\n",
      "MYBPC2    0.320730\n",
      "C12orf42  0.272255\n",
      "GUCY2C    0.247533\n",
      "TMC2      0.228251\n",
      "ANKDD1B   0.221733\n",
      "KIF25     0.220830\n"
     ]
    }
   ],
   "source": [
    "print(gene_correlation_sorted.head(10))\n",
    "# print(gene_correlation.loc[\"PGK1\"])"
   ]
  },
  {
   "cell_type": "code",
   "execution_count": 358,
   "id": "successful-insulation",
   "metadata": {},
   "outputs": [
    {
     "name": "stdout",
     "output_type": "stream",
     "text": [
      "HBB has 5 samples after searching 1\n",
      "MBP has 183 samples after searching 8\n",
      "RPS6 has 5 samples after searching 27\n",
      "CHI3L1 has 8 samples after searching 33\n",
      "SPARC has 6 samples after searching 35\n"
     ]
    }
   ],
   "source": [
    "find_available_samples(mean_difference.sort_values(ascending=False), 5)"
   ]
  },
  {
   "cell_type": "code",
   "execution_count": 368,
   "id": "verified-leone",
   "metadata": {},
   "outputs": [
    {
     "data": {
      "image/png": "[encoded data removed]",
      "text/plain": [
       "<Figure size 432x288 with 1 Axes>"
      ]
     },
     "metadata": {
      "needs_background": "light"
     },
     "output_type": "display_data"
    }
   ],
   "source": [
    "target_gene = \"CD44\"\n",
    "plt.plot(negative_samples[target_gene])\n",
    "plt.plot(positive_samples[target_gene])\n",
    "plt.show()"
   ]
  },
  {
   "cell_type": "code",
   "execution_count": 375,
   "id": "further-stadium",
   "metadata": {},
   "outputs": [
    {
     "data": {
      "image/png": "[encoded data removed]",
      "text/plain": [
       "<Figure size 432x288 with 1 Axes>"
      ]
     },
     "metadata": {
      "needs_background": "light"
     },
     "output_type": "display_data"
    }
   ],
   "source": [
    "target_gene1 = \"CCL2\"\n",
    "target_gene2 = \"CD44\"\n",
    "plt.scatter(negative_samples[target_gene1], negative_samples[target_gene2])\n",
    "plt.scatter(positive_samples[target_gene1], positive_samples[target_gene2])\n",
    "plt.show()"
   ]
  },
  {
   "cell_type": "code",
   "execution_count": null,
   "id": "boxed-vacuum",
   "metadata": {},
   "outputs": [],
   "source": []
  }
 ],
 "metadata": {
  "kernelspec": {
   "display_name": "Python 3",
   "language": "python",
   "name": "python3"
  },
  "language_info": {
   "codemirror_mode": {
    "name": "ipython",
    "version": 3
   },
   "file_extension": ".py",
   "mimetype": "text/x-python",
   "name": "python",
   "nbconvert_exporter": "python",
   "pygments_lexer": "ipython3",
   "version": "3.9.5"
  }
 },
 "nbformat": 4,
 "nbformat_minor": 5
}
